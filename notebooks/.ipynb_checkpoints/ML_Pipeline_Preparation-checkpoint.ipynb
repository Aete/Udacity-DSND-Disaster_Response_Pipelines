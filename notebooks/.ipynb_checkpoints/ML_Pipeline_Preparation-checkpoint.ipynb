{
 "cells": [
  {
   "cell_type": "markdown",
   "metadata": {
    "colab_type": "text",
    "id": "ULwuZnDgb20B"
   },
   "source": [
    "# ML Pipeline Preparation\n",
    "Follow the instructions below to help you create your ML pipeline.\n",
    "### 1. Import libraries and load data from database.\n",
    "- Import Python libraries\n",
    "- Load dataset from database with [`read_sql_table`](https://pandas.pydata.org/pandas-docs/stable/generated/pandas.read_sql_table.html)\n",
    "- Define feature and target variables X and Y"
   ]
  },
  {
   "cell_type": "code",
   "execution_count": 1,
   "metadata": {
    "colab": {},
    "colab_type": "code",
    "id": "o4n0QRHub20C"
   },
   "outputs": [],
   "source": [
    "# import libraries\n",
    "import pandas as pd\n",
    "import numpy as np\n",
    "\n",
    "import re\n",
    "import nltk\n",
    "from nltk.tokenize import word_tokenize\n",
    "from nltk.stem import WordNetLemmatizer \n",
    "from nltk.corpus import stopwords\n",
    "\n",
    "from sklearn.pipeline import Pipeline\n",
    "from sklearn.pipeline import FeatureUnion\n",
    "from sklearn.feature_extraction.text import CountVectorizer, TfidfTransformer, TfidfVectorizer\n",
    "from sklearn.multioutput import MultiOutputClassifier\n",
    "from sklearn.model_selection import train_test_split\n",
    "from sklearn.model_selection import RandomizedSearchCV\n",
    "from sklearn.model_selection import GridSearchCV\n",
    "from sklearn.metrics import classification_report\n",
    "from sklearn.decomposition import TruncatedSVD \n",
    "from lightgbm import LGBMClassifier\n",
    "\n",
    "import pickle\n",
    "import bz2\n",
    "\n",
    "from sqlalchemy import create_engine\n",
    "from matplotlib import pyplot as plt\n",
    "import seaborn as sns"
   ]
  },
  {
   "cell_type": "code",
   "execution_count": 2,
   "metadata": {
    "colab": {
     "base_uri": "https://localhost:8080/",
     "height": 197
    },
    "colab_type": "code",
    "id": "YwU5-viib20E",
    "outputId": "f6ef2d95-7682-4a2b-88ab-4d11c194f32e"
   },
   "outputs": [
    {
     "data": {
      "text/html": [
       "<div>\n",
       "<style scoped>\n",
       "    .dataframe tbody tr th:only-of-type {\n",
       "        vertical-align: middle;\n",
       "    }\n",
       "\n",
       "    .dataframe tbody tr th {\n",
       "        vertical-align: top;\n",
       "    }\n",
       "\n",
       "    .dataframe thead th {\n",
       "        text-align: right;\n",
       "    }\n",
       "</style>\n",
       "<table border=\"1\" class=\"dataframe\">\n",
       "  <thead>\n",
       "    <tr style=\"text-align: right;\">\n",
       "      <th></th>\n",
       "      <th>id</th>\n",
       "      <th>message</th>\n",
       "      <th>original</th>\n",
       "      <th>genre</th>\n",
       "      <th>related</th>\n",
       "      <th>request</th>\n",
       "      <th>offer</th>\n",
       "      <th>aid_related</th>\n",
       "      <th>medical_help</th>\n",
       "      <th>medical_products</th>\n",
       "      <th>...</th>\n",
       "      <th>aid_centers</th>\n",
       "      <th>other_infrastructure</th>\n",
       "      <th>weather_related</th>\n",
       "      <th>floods</th>\n",
       "      <th>storm</th>\n",
       "      <th>fire</th>\n",
       "      <th>earthquake</th>\n",
       "      <th>cold</th>\n",
       "      <th>other_weather</th>\n",
       "      <th>direct_report</th>\n",
       "    </tr>\n",
       "  </thead>\n",
       "  <tbody>\n",
       "    <tr>\n",
       "      <th>0</th>\n",
       "      <td>2</td>\n",
       "      <td>Weather update - a cold front from Cuba that c...</td>\n",
       "      <td>Un front froid se retrouve sur Cuba ce matin. ...</td>\n",
       "      <td>direct</td>\n",
       "      <td>1</td>\n",
       "      <td>0</td>\n",
       "      <td>0</td>\n",
       "      <td>0</td>\n",
       "      <td>0</td>\n",
       "      <td>0</td>\n",
       "      <td>...</td>\n",
       "      <td>0</td>\n",
       "      <td>0</td>\n",
       "      <td>0</td>\n",
       "      <td>0</td>\n",
       "      <td>0</td>\n",
       "      <td>0</td>\n",
       "      <td>0</td>\n",
       "      <td>0</td>\n",
       "      <td>0</td>\n",
       "      <td>0</td>\n",
       "    </tr>\n",
       "    <tr>\n",
       "      <th>1</th>\n",
       "      <td>7</td>\n",
       "      <td>Is the Hurricane over or is it not over</td>\n",
       "      <td>Cyclone nan fini osinon li pa fini</td>\n",
       "      <td>direct</td>\n",
       "      <td>1</td>\n",
       "      <td>0</td>\n",
       "      <td>0</td>\n",
       "      <td>1</td>\n",
       "      <td>0</td>\n",
       "      <td>0</td>\n",
       "      <td>...</td>\n",
       "      <td>0</td>\n",
       "      <td>0</td>\n",
       "      <td>1</td>\n",
       "      <td>0</td>\n",
       "      <td>1</td>\n",
       "      <td>0</td>\n",
       "      <td>0</td>\n",
       "      <td>0</td>\n",
       "      <td>0</td>\n",
       "      <td>0</td>\n",
       "    </tr>\n",
       "    <tr>\n",
       "      <th>2</th>\n",
       "      <td>8</td>\n",
       "      <td>Looking for someone but no name</td>\n",
       "      <td>Patnm, di Maryani relem pou li banm nouvel li ...</td>\n",
       "      <td>direct</td>\n",
       "      <td>1</td>\n",
       "      <td>0</td>\n",
       "      <td>0</td>\n",
       "      <td>0</td>\n",
       "      <td>0</td>\n",
       "      <td>0</td>\n",
       "      <td>...</td>\n",
       "      <td>0</td>\n",
       "      <td>0</td>\n",
       "      <td>0</td>\n",
       "      <td>0</td>\n",
       "      <td>0</td>\n",
       "      <td>0</td>\n",
       "      <td>0</td>\n",
       "      <td>0</td>\n",
       "      <td>0</td>\n",
       "      <td>0</td>\n",
       "    </tr>\n",
       "    <tr>\n",
       "      <th>3</th>\n",
       "      <td>9</td>\n",
       "      <td>UN reports Leogane 80-90 destroyed. Only Hospi...</td>\n",
       "      <td>UN reports Leogane 80-90 destroyed. Only Hospi...</td>\n",
       "      <td>direct</td>\n",
       "      <td>1</td>\n",
       "      <td>1</td>\n",
       "      <td>0</td>\n",
       "      <td>1</td>\n",
       "      <td>0</td>\n",
       "      <td>1</td>\n",
       "      <td>...</td>\n",
       "      <td>0</td>\n",
       "      <td>0</td>\n",
       "      <td>0</td>\n",
       "      <td>0</td>\n",
       "      <td>0</td>\n",
       "      <td>0</td>\n",
       "      <td>0</td>\n",
       "      <td>0</td>\n",
       "      <td>0</td>\n",
       "      <td>0</td>\n",
       "    </tr>\n",
       "    <tr>\n",
       "      <th>4</th>\n",
       "      <td>12</td>\n",
       "      <td>says: west side of Haiti, rest of the country ...</td>\n",
       "      <td>facade ouest d Haiti et le reste du pays aujou...</td>\n",
       "      <td>direct</td>\n",
       "      <td>1</td>\n",
       "      <td>0</td>\n",
       "      <td>0</td>\n",
       "      <td>0</td>\n",
       "      <td>0</td>\n",
       "      <td>0</td>\n",
       "      <td>...</td>\n",
       "      <td>0</td>\n",
       "      <td>0</td>\n",
       "      <td>0</td>\n",
       "      <td>0</td>\n",
       "      <td>0</td>\n",
       "      <td>0</td>\n",
       "      <td>0</td>\n",
       "      <td>0</td>\n",
       "      <td>0</td>\n",
       "      <td>0</td>\n",
       "    </tr>\n",
       "  </tbody>\n",
       "</table>\n",
       "<p>5 rows × 39 columns</p>\n",
       "</div>"
      ],
      "text/plain": [
       "   id                                            message  \\\n",
       "0   2  Weather update - a cold front from Cuba that c...   \n",
       "1   7            Is the Hurricane over or is it not over   \n",
       "2   8                    Looking for someone but no name   \n",
       "3   9  UN reports Leogane 80-90 destroyed. Only Hospi...   \n",
       "4  12  says: west side of Haiti, rest of the country ...   \n",
       "\n",
       "                                            original   genre  related  \\\n",
       "0  Un front froid se retrouve sur Cuba ce matin. ...  direct        1   \n",
       "1                 Cyclone nan fini osinon li pa fini  direct        1   \n",
       "2  Patnm, di Maryani relem pou li banm nouvel li ...  direct        1   \n",
       "3  UN reports Leogane 80-90 destroyed. Only Hospi...  direct        1   \n",
       "4  facade ouest d Haiti et le reste du pays aujou...  direct        1   \n",
       "\n",
       "   request  offer  aid_related  medical_help  medical_products  ...  \\\n",
       "0        0      0            0             0                 0  ...   \n",
       "1        0      0            1             0                 0  ...   \n",
       "2        0      0            0             0                 0  ...   \n",
       "3        1      0            1             0                 1  ...   \n",
       "4        0      0            0             0                 0  ...   \n",
       "\n",
       "   aid_centers  other_infrastructure  weather_related  floods  storm  fire  \\\n",
       "0            0                     0                0       0      0     0   \n",
       "1            0                     0                1       0      1     0   \n",
       "2            0                     0                0       0      0     0   \n",
       "3            0                     0                0       0      0     0   \n",
       "4            0                     0                0       0      0     0   \n",
       "\n",
       "   earthquake  cold  other_weather  direct_report  \n",
       "0           0     0              0              0  \n",
       "1           0     0              0              0  \n",
       "2           0     0              0              0  \n",
       "3           0     0              0              0  \n",
       "4           0     0              0              0  \n",
       "\n",
       "[5 rows x 39 columns]"
      ]
     },
     "execution_count": 2,
     "metadata": {},
     "output_type": "execute_result"
    }
   ],
   "source": [
    "# load data from database\n",
    "engine = create_engine('sqlite:///../data/DisasterResponse.db')\n",
    "df = pd.read_sql('SELECT * FROM disaster_response', engine)\n",
    "df.head()"
   ]
  },
  {
   "cell_type": "code",
   "execution_count": 3,
   "metadata": {
    "colab": {
     "base_uri": "https://localhost:8080/",
     "height": 180
    },
    "colab_type": "code",
    "id": "XkAaeRxeb20I",
    "outputId": "ff06823b-2d75-4a6a-c28c-e511b588b2a0"
   },
   "outputs": [],
   "source": [
    "X = df['message']\n",
    "Y = df.drop(['id','message','original','genre'],axis=1)"
   ]
  },
  {
   "cell_type": "markdown",
   "metadata": {
    "colab_type": "text",
    "id": "K_LIPRVNb20J"
   },
   "source": [
    "### 2. Write a tokenization function to process your text data"
   ]
  },
  {
   "cell_type": "code",
   "execution_count": 4,
   "metadata": {
    "colab": {
     "base_uri": "https://localhost:8080/",
     "height": 136
    },
    "colab_type": "code",
    "id": "pPIaVurMb20K",
    "outputId": "0724d6e5-1634-4825-f2e8-f760960a04f5"
   },
   "outputs": [
    {
     "name": "stderr",
     "output_type": "stream",
     "text": [
      "[nltk_data] Downloading package stopwords to\n",
      "[nltk_data]     C:\\Users\\Han\\AppData\\Roaming\\nltk_data...\n",
      "[nltk_data]   Package stopwords is already up-to-date!\n",
      "[nltk_data] Downloading package wordnet to\n",
      "[nltk_data]     C:\\Users\\Han\\AppData\\Roaming\\nltk_data...\n",
      "[nltk_data]   Package wordnet is already up-to-date!\n",
      "[nltk_data] Downloading package punkt to\n",
      "[nltk_data]     C:\\Users\\Han\\AppData\\Roaming\\nltk_data...\n",
      "[nltk_data]   Package punkt is already up-to-date!\n"
     ]
    },
    {
     "data": {
      "text/plain": [
       "True"
      ]
     },
     "execution_count": 4,
     "metadata": {},
     "output_type": "execute_result"
    }
   ],
   "source": [
    "nltk.download('stopwords')\n",
    "nltk.download('wordnet')\n",
    "nltk.download('punkt')"
   ]
  },
  {
   "cell_type": "code",
   "execution_count": 5,
   "metadata": {
    "colab": {},
    "colab_type": "code",
    "id": "m-laSA5wb20O"
   },
   "outputs": [],
   "source": [
    "url_regex = 'http[s]?://(?:[a-zA-Z]|[0-9]|[$-_@.&+]|[!*\\(\\),]|(?:%[0-9a-fA-F][0-9a-fA-F]))+'\n",
    "def tokenize(text):\n",
    "    \n",
    "    '''\n",
    "    Function for tokenizing text. Through the function, punctuations and url will removed from the text.\n",
    "    Then, text will be tokenized as list\n",
    "    \n",
    "    Args:\n",
    "        text (string): target text to tokenize\n",
    "    \n",
    "    Returns:\n",
    "        token_list (list): list of words from tokenized text\n",
    "    \n",
    "    '''\n",
    "    \n",
    "    \n",
    "    # normalize text and strip punctuation\n",
    "    text = text.strip()\n",
    "    text = re.sub(r\"[^a-zA-Z]\", \" \", text.lower())\n",
    "    detected_urls = re.findall(url_regex, text)\n",
    "    for url in detected_urls:\n",
    "        text = text.replace(url, \"urlplaceholder\")\n",
    "        \n",
    "    # tokenize text\n",
    "    token_list = word_tokenize(text) \n",
    "    \n",
    "    # lemmatize and return token list\n",
    "    token_list = [WordNetLemmatizer().lemmatize(w) for w in token_list if w not in stopwords.words(\"english\")]\n",
    "    return token_list"
   ]
  },
  {
   "cell_type": "markdown",
   "metadata": {
    "colab_type": "text",
    "id": "RFyOGaqYb20Q"
   },
   "source": [
    "### 3. Build a machine learning pipeline\n",
    "This machine pipeline should take in the `message` column as input and output classification results on the other 36 categories in the dataset. You may find the [MultiOutputClassifier](http://scikit-learn.org/stable/modules/generated/sklearn.multioutput.MultiOutputClassifier.html) helpful for predicting multiple target variables."
   ]
  },
  {
   "cell_type": "code",
   "execution_count": 6,
   "metadata": {
    "colab": {},
    "colab_type": "code",
    "id": "dh9i-NRnb20R"
   },
   "outputs": [],
   "source": [
    "from lightgbm import LGBMClassifier\n",
    "\n",
    "def pipeline_lgbClassifier():\n",
    "    \n",
    "    '''\n",
    "    Function for making pipeline for machine learning. \n",
    "    \n",
    "    Returns:\n",
    "        pipeline (Pipeline): pipeline which is consisted with CountVectorizer, TfidfTransformer,\n",
    "                         and MultiOutputClassifier with LGBMClassifier\n",
    "    \n",
    "    '''\n",
    "    pipeline = Pipeline([\n",
    "                    ('vect', CountVectorizer(tokenizer=tokenize)),\n",
    "                    ('tfidf', TfidfTransformer()),\n",
    "                    ('Multi_classifier',MultiOutputClassifier(LGBMClassifier(device='gpu',\n",
    "                                                                                 gpu_platform_id = 0, gpu_device_id = 0)))\n",
    "    ])\n",
    "    return pipeline"
   ]
  },
  {
   "cell_type": "markdown",
   "metadata": {
    "colab_type": "text",
    "id": "IhxR33ZNb20T"
   },
   "source": [
    "### 4. Train pipeline\n",
    "- Split data into train and test sets\n",
    "- Train pipeline\n"
   ]
  },
  {
   "cell_type": "code",
   "execution_count": 7,
   "metadata": {
    "colab": {},
    "colab_type": "code",
    "id": "Y39OX7LYb20T"
   },
   "outputs": [],
   "source": [
    "from sklearn.model_selection import train_test_split\n",
    "\n",
    "X_train, X_test, y_train, y_test = train_test_split(X, Y, test_size=0.33, random_state=42)"
   ]
  },
  {
   "cell_type": "code",
   "execution_count": 8,
   "metadata": {
    "colab": {
     "base_uri": "https://localhost:8080/",
     "height": 561
    },
    "colab_type": "code",
    "id": "CL0w3ahhb20V",
    "outputId": "1c24328c-8a52-42b3-c9ff-3cc55aaa10af"
   },
   "outputs": [
    {
     "data": {
      "text/plain": [
       "Pipeline(memory=None,\n",
       "         steps=[('vect',\n",
       "                 CountVectorizer(analyzer='word', binary=False,\n",
       "                                 decode_error='strict',\n",
       "                                 dtype=<class 'numpy.int64'>, encoding='utf-8',\n",
       "                                 input='content', lowercase=True, max_df=1.0,\n",
       "                                 max_features=None, min_df=1,\n",
       "                                 ngram_range=(1, 1), preprocessor=None,\n",
       "                                 stop_words=None, strip_accents=None,\n",
       "                                 token_pattern='(?u)\\\\b\\\\w\\\\w+\\\\b',\n",
       "                                 tokenizer=<function tokenize at...\n",
       "                                                                gpu_device_id=0,\n",
       "                                                                gpu_platform_id=0,\n",
       "                                                                importance_type='split',\n",
       "                                                                learning_rate=0.1,\n",
       "                                                                max_depth=-1,\n",
       "                                                                min_child_samples=20,\n",
       "                                                                min_child_weight=0.001,\n",
       "                                                                min_split_gain=0.0,\n",
       "                                                                n_estimators=100,\n",
       "                                                                n_jobs=-1,\n",
       "                                                                num_leaves=31,\n",
       "                                                                objective=None,\n",
       "                                                                random_state=None,\n",
       "                                                                reg_alpha=0.0,\n",
       "                                                                reg_lambda=0.0,\n",
       "                                                                silent=True,\n",
       "                                                                subsample=1.0,\n",
       "                                                                subsample_for_bin=200000,\n",
       "                                                                subsample_freq=0),\n",
       "                                       n_jobs=None))],\n",
       "         verbose=False)"
      ]
     },
     "execution_count": 8,
     "metadata": {},
     "output_type": "execute_result"
    }
   ],
   "source": [
    "pipeline = pipeline_lgbClassifier()\n",
    "pipeline.fit(X_train,y_train)"
   ]
  },
  {
   "cell_type": "code",
   "execution_count": 9,
   "metadata": {},
   "outputs": [],
   "source": [
    "import pickle\n",
    "\n",
    "pickle_out = open('../models/pipeline_previous_model.pickle','wb')\n",
    "pickle.dump(pipeline, pickle_out)\n",
    "pickle_out.close()"
   ]
  },
  {
   "cell_type": "markdown",
   "metadata": {
    "colab_type": "text",
    "id": "hfozyM1Db20Y"
   },
   "source": [
    "### 5. Test your model\n",
    "Report the f1 score, precision and recall for each output category of the dataset. You can do this by iterating through the columns and calling sklearn's `classification_report` on each."
   ]
  },
  {
   "cell_type": "code",
   "execution_count": 10,
   "metadata": {
    "colab": {},
    "colab_type": "code",
    "id": "b1CNlD0db20Z"
   },
   "outputs": [],
   "source": [
    "y_pred = pipeline.predict(X_test)        "
   ]
  },
  {
   "cell_type": "code",
   "execution_count": 11,
   "metadata": {
    "colab": {},
    "colab_type": "code",
    "id": "NTeB_BEFb20b"
   },
   "outputs": [],
   "source": [
    "target_name_list = df.columns[4:].tolist()"
   ]
  },
  {
   "cell_type": "code",
   "execution_count": 12,
   "metadata": {
    "colab": {
     "base_uri": "https://localhost:8080/",
     "height": 6089
    },
    "colab_type": "code",
    "id": "w_XZQzAqb20d",
    "outputId": "cb375997-a52a-4603-ba47-9d658b10643f"
   },
   "outputs": [
    {
     "name": "stdout",
     "output_type": "stream",
     "text": [
      "related\n",
      "              precision    recall  f1-score   support\n",
      "\n",
      "           0       0.69      0.47      0.56      2118\n",
      "           1       0.84      0.93      0.88      6534\n",
      "\n",
      "    accuracy                           0.82      8652\n",
      "   macro avg       0.76      0.70      0.72      8652\n",
      "weighted avg       0.81      0.82      0.80      8652\n",
      "\n",
      "request\n",
      "              precision    recall  f1-score   support\n",
      "\n",
      "           0       0.92      0.97      0.94      7180\n",
      "           1       0.79      0.58      0.67      1472\n",
      "\n",
      "    accuracy                           0.90      8652\n",
      "   macro avg       0.86      0.77      0.81      8652\n",
      "weighted avg       0.90      0.90      0.90      8652\n",
      "\n",
      "offer\n",
      "              precision    recall  f1-score   support\n",
      "\n",
      "           0       1.00      1.00      1.00      8614\n",
      "           1       0.00      0.00      0.00        38\n",
      "\n",
      "    accuracy                           1.00      8652\n",
      "   macro avg       0.50      0.50      0.50      8652\n",
      "weighted avg       0.99      1.00      0.99      8652\n",
      "\n",
      "aid_related\n",
      "              precision    recall  f1-score   support\n",
      "\n",
      "           0       0.80      0.84      0.82      5107\n",
      "           1       0.75      0.69      0.72      3545\n",
      "\n",
      "    accuracy                           0.78      8652\n",
      "   macro avg       0.77      0.76      0.77      8652\n",
      "weighted avg       0.78      0.78      0.78      8652\n",
      "\n",
      "medical_help\n",
      "              precision    recall  f1-score   support\n",
      "\n",
      "           0       0.94      0.98      0.96      7951\n",
      "           1       0.59      0.29      0.39       701\n",
      "\n",
      "    accuracy                           0.93      8652\n",
      "   macro avg       0.76      0.64      0.68      8652\n",
      "weighted avg       0.91      0.93      0.91      8652\n",
      "\n",
      "medical_products\n",
      "              precision    recall  f1-score   support\n",
      "\n",
      "           0       0.96      0.99      0.98      8206\n",
      "           1       0.66      0.28      0.39       446\n",
      "\n",
      "    accuracy                           0.96      8652\n",
      "   macro avg       0.81      0.64      0.68      8652\n",
      "weighted avg       0.95      0.96      0.95      8652\n",
      "\n",
      "search_and_rescue\n",
      "              precision    recall  f1-score   support\n",
      "\n",
      "           0       0.98      1.00      0.99      8426\n",
      "           1       0.66      0.15      0.24       226\n",
      "\n",
      "    accuracy                           0.98      8652\n",
      "   macro avg       0.82      0.57      0.61      8652\n",
      "weighted avg       0.97      0.98      0.97      8652\n",
      "\n",
      "security\n",
      "              precision    recall  f1-score   support\n",
      "\n",
      "           0       0.98      1.00      0.99      8492\n",
      "           1       0.50      0.01      0.02       160\n",
      "\n",
      "    accuracy                           0.98      8652\n",
      "   macro avg       0.74      0.51      0.51      8652\n",
      "weighted avg       0.97      0.98      0.97      8652\n",
      "\n",
      "military\n",
      "              precision    recall  f1-score   support\n",
      "\n",
      "           0       0.98      0.99      0.98      8385\n",
      "           1       0.53      0.32      0.40       267\n",
      "\n",
      "    accuracy                           0.97      8652\n",
      "   macro avg       0.75      0.65      0.69      8652\n",
      "weighted avg       0.96      0.97      0.97      8652\n",
      "\n",
      "water\n",
      "              precision    recall  f1-score   support\n",
      "\n",
      "           0       0.98      0.99      0.98      8109\n",
      "           1       0.77      0.67      0.72       543\n",
      "\n",
      "    accuracy                           0.97      8652\n",
      "   macro avg       0.88      0.83      0.85      8652\n",
      "weighted avg       0.97      0.97      0.97      8652\n",
      "\n",
      "food\n",
      "              precision    recall  f1-score   support\n",
      "\n",
      "           0       0.97      0.98      0.97      7687\n",
      "           1       0.82      0.76      0.79       965\n",
      "\n",
      "    accuracy                           0.95      8652\n",
      "   macro avg       0.89      0.87      0.88      8652\n",
      "weighted avg       0.95      0.95      0.95      8652\n",
      "\n",
      "shelter\n",
      "              precision    recall  f1-score   support\n",
      "\n",
      "           0       0.96      0.98      0.97      7877\n",
      "           1       0.77      0.61      0.68       775\n",
      "\n",
      "    accuracy                           0.95      8652\n",
      "   macro avg       0.87      0.79      0.83      8652\n",
      "weighted avg       0.94      0.95      0.95      8652\n",
      "\n",
      "clothing\n",
      "              precision    recall  f1-score   support\n",
      "\n",
      "           0       0.99      1.00      0.99      8525\n",
      "           1       0.74      0.43      0.55       127\n",
      "\n",
      "    accuracy                           0.99      8652\n",
      "   macro avg       0.87      0.72      0.77      8652\n",
      "weighted avg       0.99      0.99      0.99      8652\n",
      "\n",
      "money\n",
      "              precision    recall  f1-score   support\n",
      "\n",
      "           0       0.98      0.99      0.99      8461\n",
      "           1       0.56      0.29      0.38       191\n",
      "\n",
      "    accuracy                           0.98      8652\n",
      "   macro avg       0.77      0.64      0.69      8652\n",
      "weighted avg       0.97      0.98      0.98      8652\n",
      "\n",
      "missing_people\n",
      "              precision    recall  f1-score   support\n",
      "\n",
      "           0       0.99      1.00      0.99      8548\n",
      "           1       0.76      0.15      0.26       104\n",
      "\n",
      "    accuracy                           0.99      8652\n",
      "   macro avg       0.88      0.58      0.63      8652\n",
      "weighted avg       0.99      0.99      0.99      8652\n",
      "\n",
      "refugees\n",
      "              precision    recall  f1-score   support\n",
      "\n",
      "           0       0.97      0.99      0.98      8359\n",
      "           1       0.57      0.23      0.32       293\n",
      "\n",
      "    accuracy                           0.97      8652\n",
      "   macro avg       0.77      0.61      0.65      8652\n",
      "weighted avg       0.96      0.97      0.96      8652\n",
      "\n",
      "death\n",
      "              precision    recall  f1-score   support\n",
      "\n",
      "           0       0.98      0.99      0.98      8246\n",
      "           1       0.79      0.50      0.61       406\n",
      "\n",
      "    accuracy                           0.97      8652\n",
      "   macro avg       0.88      0.75      0.80      8652\n",
      "weighted avg       0.97      0.97      0.97      8652\n",
      "\n",
      "other_aid\n",
      "              precision    recall  f1-score   support\n",
      "\n",
      "           0       0.89      0.98      0.93      7513\n",
      "           1       0.57      0.16      0.25      1139\n",
      "\n",
      "    accuracy                           0.87      8652\n",
      "   macro avg       0.73      0.57      0.59      8652\n",
      "weighted avg       0.84      0.87      0.84      8652\n",
      "\n",
      "infrastructure_related\n",
      "              precision    recall  f1-score   support\n",
      "\n",
      "           0       0.94      1.00      0.97      8084\n",
      "           1       0.52      0.07      0.12       568\n",
      "\n",
      "    accuracy                           0.93      8652\n",
      "   macro avg       0.73      0.53      0.54      8652\n",
      "weighted avg       0.91      0.93      0.91      8652\n",
      "\n",
      "transport\n",
      "              precision    recall  f1-score   support\n",
      "\n",
      "           0       0.96      1.00      0.98      8245\n",
      "           1       0.71      0.25      0.37       407\n",
      "\n",
      "    accuracy                           0.96      8652\n",
      "   macro avg       0.84      0.62      0.67      8652\n",
      "weighted avg       0.95      0.96      0.95      8652\n",
      "\n",
      "buildings\n",
      "              precision    recall  f1-score   support\n",
      "\n",
      "           0       0.97      0.99      0.98      8211\n",
      "           1       0.71      0.37      0.49       441\n",
      "\n",
      "    accuracy                           0.96      8652\n",
      "   macro avg       0.84      0.68      0.73      8652\n",
      "weighted avg       0.95      0.96      0.95      8652\n",
      "\n",
      "electricity\n",
      "              precision    recall  f1-score   support\n",
      "\n",
      "           0       0.98      1.00      0.99      8467\n",
      "           1       0.55      0.23      0.32       185\n",
      "\n",
      "    accuracy                           0.98      8652\n",
      "   macro avg       0.76      0.61      0.66      8652\n",
      "weighted avg       0.97      0.98      0.98      8652\n",
      "\n",
      "tools\n",
      "              precision    recall  f1-score   support\n",
      "\n",
      "           0       0.99      1.00      1.00      8599\n",
      "           1       0.00      0.00      0.00        53\n",
      "\n",
      "    accuracy                           0.99      8652\n",
      "   macro avg       0.50      0.50      0.50      8652\n",
      "weighted avg       0.99      0.99      0.99      8652\n",
      "\n",
      "hospitals\n",
      "              precision    recall  f1-score   support\n",
      "\n",
      "           0       0.99      1.00      0.99      8567\n",
      "           1       0.44      0.09      0.16        85\n",
      "\n",
      "    accuracy                           0.99      8652\n",
      "   macro avg       0.72      0.55      0.58      8652\n",
      "weighted avg       0.99      0.99      0.99      8652\n",
      "\n",
      "shops\n",
      "              precision    recall  f1-score   support\n",
      "\n",
      "           0       1.00      1.00      1.00      8618\n",
      "           1       0.67      0.06      0.11        34\n",
      "\n",
      "    accuracy                           1.00      8652\n",
      "   macro avg       0.83      0.53      0.55      8652\n",
      "weighted avg       1.00      1.00      0.99      8652\n",
      "\n",
      "aid_centers\n",
      "              precision    recall  f1-score   support\n",
      "\n",
      "           0       0.99      1.00      0.99      8537\n",
      "           1       0.43      0.05      0.09       115\n",
      "\n",
      "    accuracy                           0.99      8652\n",
      "   macro avg       0.71      0.53      0.54      8652\n",
      "weighted avg       0.98      0.99      0.98      8652\n",
      "\n",
      "other_infrastructure\n",
      "              precision    recall  f1-score   support\n",
      "\n",
      "           0       0.96      1.00      0.98      8269\n",
      "           1       0.40      0.05      0.09       383\n",
      "\n",
      "    accuracy                           0.95      8652\n",
      "   macro avg       0.68      0.52      0.53      8652\n",
      "weighted avg       0.93      0.95      0.94      8652\n",
      "\n",
      "weather_related\n",
      "              precision    recall  f1-score   support\n",
      "\n",
      "           0       0.91      0.95      0.93      6262\n",
      "           1       0.84      0.74      0.79      2390\n",
      "\n",
      "    accuracy                           0.89      8652\n",
      "   macro avg       0.87      0.84      0.86      8652\n",
      "weighted avg       0.89      0.89      0.89      8652\n",
      "\n",
      "floods\n",
      "              precision    recall  f1-score   support\n",
      "\n",
      "           0       0.96      0.99      0.98      7959\n",
      "           1       0.86      0.56      0.68       693\n",
      "\n",
      "    accuracy                           0.96      8652\n",
      "   macro avg       0.91      0.78      0.83      8652\n",
      "weighted avg       0.95      0.96      0.95      8652\n",
      "\n",
      "storm\n",
      "              precision    recall  f1-score   support\n",
      "\n",
      "           0       0.97      0.97      0.97      7840\n",
      "           1       0.72      0.69      0.71       812\n",
      "\n",
      "    accuracy                           0.95      8652\n",
      "   macro avg       0.85      0.83      0.84      8652\n",
      "weighted avg       0.95      0.95      0.95      8652\n",
      "\n",
      "fire\n",
      "              precision    recall  f1-score   support\n",
      "\n",
      "           0       0.99      1.00      1.00      8562\n",
      "           1       0.60      0.23      0.34        90\n",
      "\n",
      "    accuracy                           0.99      8652\n",
      "   macro avg       0.80      0.62      0.67      8652\n",
      "weighted avg       0.99      0.99      0.99      8652\n"
     ]
    },
    {
     "name": "stdout",
     "output_type": "stream",
     "text": [
      "\n",
      "earthquake\n",
      "              precision    recall  f1-score   support\n",
      "\n",
      "           0       0.98      0.99      0.99      7865\n",
      "           1       0.88      0.81      0.84       787\n",
      "\n",
      "    accuracy                           0.97      8652\n",
      "   macro avg       0.93      0.90      0.91      8652\n",
      "weighted avg       0.97      0.97      0.97      8652\n",
      "\n",
      "cold\n",
      "              precision    recall  f1-score   support\n",
      "\n",
      "           0       0.99      1.00      0.99      8465\n",
      "           1       0.63      0.38      0.47       187\n",
      "\n",
      "    accuracy                           0.98      8652\n",
      "   macro avg       0.81      0.69      0.73      8652\n",
      "weighted avg       0.98      0.98      0.98      8652\n",
      "\n",
      "other_weather\n",
      "              precision    recall  f1-score   support\n",
      "\n",
      "           0       0.95      0.99      0.97      8200\n",
      "           1       0.45      0.15      0.22       452\n",
      "\n",
      "    accuracy                           0.95      8652\n",
      "   macro avg       0.70      0.57      0.60      8652\n",
      "weighted avg       0.93      0.95      0.93      8652\n",
      "\n",
      "direct_report\n",
      "              precision    recall  f1-score   support\n",
      "\n",
      "           0       0.88      0.96      0.92      6958\n",
      "           1       0.73      0.46      0.56      1694\n",
      "\n",
      "    accuracy                           0.86      8652\n",
      "   macro avg       0.81      0.71      0.74      8652\n",
      "weighted avg       0.85      0.86      0.85      8652\n",
      "\n"
     ]
    }
   ],
   "source": [
    "for i,col in enumerate(target_name_list):\n",
    "    print(col)\n",
    "    print(classification_report(y_test[col].values, y_pred[:,i]))"
   ]
  },
  {
   "cell_type": "markdown",
   "metadata": {
    "colab_type": "text",
    "id": "tN7UPWY3b20g"
   },
   "source": [
    "### 6. Improve your model\n",
    "Use grid search to find better parameters. "
   ]
  },
  {
   "cell_type": "code",
   "execution_count": 26,
   "metadata": {
    "colab": {},
    "colab_type": "code",
    "id": "DjcRFzz15hmB"
   },
   "outputs": [],
   "source": [
    "pipeline = pipeline_lgbClassifier()\n",
    "parameters_grid =  {\n",
    "        'vect__ngram_range': [(1, 2)],\n",
    "        'vect__max_df': (0.75, 1.0),\n",
    "        'Multi_classifier__estimator__boosting_type' : ['dart'],\n",
    "        'Multi_classifier__estimator__learning_rate' : (0.08,0.1)\n",
    "        }\n",
    "\n",
    "\n",
    "grid_cv = GridSearchCV(pipeline, parameters_grid, cv = 3,  verbose = 20, n_jobs=-1)"
   ]
  },
  {
   "cell_type": "code",
   "execution_count": 27,
   "metadata": {
    "colab": {
     "base_uri": "https://localhost:8080/",
     "height": 2295
    },
    "colab_type": "code",
    "id": "OtIjM-rY6yOu",
    "outputId": "0c4fb897-aca6-4a1d-bbd1-988177b63a56"
   },
   "outputs": [
    {
     "name": "stdout",
     "output_type": "stream",
     "text": [
      "Fitting 3 folds for each of 4 candidates, totalling 12 fits\n"
     ]
    },
    {
     "name": "stderr",
     "output_type": "stream",
     "text": [
      "[Parallel(n_jobs=-1)]: Using backend LokyBackend with 4 concurrent workers.\n",
      "[Parallel(n_jobs=-1)]: Done   1 tasks      | elapsed: 10.2min\n",
      "[Parallel(n_jobs=-1)]: Done   2 tasks      | elapsed: 10.2min\n",
      "[Parallel(n_jobs=-1)]: Done   3 tasks      | elapsed: 10.3min\n",
      "[Parallel(n_jobs=-1)]: Done   4 tasks      | elapsed: 10.4min\n",
      "[Parallel(n_jobs=-1)]: Done   5 tasks      | elapsed: 20.5min\n",
      "[Parallel(n_jobs=-1)]: Done   6 out of  12 | elapsed: 20.5min remaining: 20.5min\n",
      "[Parallel(n_jobs=-1)]: Done   7 out of  12 | elapsed: 20.6min remaining: 14.7min\n",
      "[Parallel(n_jobs=-1)]: Done   8 out of  12 | elapsed: 20.7min remaining: 10.3min\n",
      "[Parallel(n_jobs=-1)]: Done   9 out of  12 | elapsed: 30.8min remaining: 10.3min\n",
      "[Parallel(n_jobs=-1)]: Done  10 out of  12 | elapsed: 30.9min remaining:  6.2min\n",
      "[Parallel(n_jobs=-1)]: Done  12 out of  12 | elapsed: 31.1min remaining:    0.0s\n",
      "[Parallel(n_jobs=-1)]: Done  12 out of  12 | elapsed: 31.1min finished\n"
     ]
    },
    {
     "data": {
      "text/plain": [
       "GridSearchCV(cv=3, error_score='raise-deprecating',\n",
       "             estimator=Pipeline(memory=None,\n",
       "                                steps=[('vect',\n",
       "                                        CountVectorizer(analyzer='word',\n",
       "                                                        binary=False,\n",
       "                                                        decode_error='strict',\n",
       "                                                        dtype=<class 'numpy.int64'>,\n",
       "                                                        encoding='utf-8',\n",
       "                                                        input='content',\n",
       "                                                        lowercase=True,\n",
       "                                                        max_df=1.0,\n",
       "                                                        max_features=None,\n",
       "                                                        min_df=1,\n",
       "                                                        ngram_range=(1, 1),\n",
       "                                                        preprocessor=None,\n",
       "                                                        stop_words=None,\n",
       "                                                        strip_accents=None,\n",
       "                                                        tok...\n",
       "                                                                                       subsample_for_bin=200000,\n",
       "                                                                                       subsample_freq=0),\n",
       "                                                              n_jobs=None))],\n",
       "                                verbose=False),\n",
       "             iid='warn', n_jobs=-1,\n",
       "             param_grid={'Multi_classifier__estimator__boosting_type': ['dart'],\n",
       "                         'Multi_classifier__estimator__learning_rate': (0.08,\n",
       "                                                                        0.1),\n",
       "                         'vect__max_df': (0.75, 1.0),\n",
       "                         'vect__ngram_range': [(1, 2)]},\n",
       "             pre_dispatch='2*n_jobs', refit=True, return_train_score=False,\n",
       "             scoring=None, verbose=20)"
      ]
     },
     "execution_count": 27,
     "metadata": {},
     "output_type": "execute_result"
    }
   ],
   "source": [
    "grid_cv.fit(X_train,y_train) "
   ]
  },
  {
   "cell_type": "code",
   "execution_count": 30,
   "metadata": {},
   "outputs": [],
   "source": [
    "pipeline = grid_cv.best_estimator_\n",
    "save_pipeline('pipeline_optimized_model',pipeline)"
   ]
  },
  {
   "cell_type": "markdown",
   "metadata": {
    "colab_type": "text",
    "id": "DE3GNRq_b20l"
   },
   "source": [
    "### 7. Test your model\n",
    "Show the accuracy, precision, and recall of the tuned model.  \n",
    "\n",
    "Since this project focuses on code quality, process, and  pipelines, there is no minimum performance metric needed to pass. However, make sure to fine tune your models for accuracy, precision and recall to make your project stand out - especially for your portfolio!"
   ]
  },
  {
   "cell_type": "code",
   "execution_count": 31,
   "metadata": {},
   "outputs": [],
   "source": [
    "from sklearn.metrics import accuracy_score, precision_score, recall_score\n",
    "def compare_scores(pred_previous,pred_opimized):\n",
    "    '''\n",
    "    Function that shows a result of comparing scores of two different prediction (or original y(target) set.)\n",
    "    \n",
    "    Args:\n",
    "        pred_previous: prediction before optimizing pipeline\n",
    "        pred_opimized: prediction after optimizing pipeline\n",
    "    \n",
    "    '''\n",
    "    \n",
    "    print('Previous Accuracy: {}'.format(accuracy_score(y_test,pred_previous)))\n",
    "    print('New Accuracy: {}'.format(accuracy_score(y_test,pred_opimized)))\n",
    "    print('Previous Precision: {}'.format(precision_score(y_test,pred_previous,average='macro')))\n",
    "    print('New Precision: {}'.format(precision_score(y_test,pred_opimized,average='macro')))\n",
    "    print('Previous Recall: {}'.format(recall_score(y_test,pred_previous,average='macro')))\n",
    "    print('New Recalll: {}'.format(recall_score(y_test,pred_opimized,average='macro')))\n"
   ]
  },
  {
   "cell_type": "code",
   "execution_count": 32,
   "metadata": {},
   "outputs": [],
   "source": [
    "def save_pipeline(model_name,pipeline):\n",
    "    '''\n",
    "    Function that saves a pipeline as pickle file.\n",
    "    \n",
    "    Args:\n",
    "        model_name: name(version) of the pipeline\n",
    "        pipeline: target pipeline to save\n",
    "        \n",
    "    '''\n",
    "    \n",
    "    url = '../models/'+ model_name +'.pickle'\n",
    "    f = bz2.BZ2File(url, 'wb')\n",
    "    pickle.dump(pipeline, f, protocol=2)\n",
    "    f.close()"
   ]
  },
  {
   "cell_type": "code",
   "execution_count": 33,
   "metadata": {},
   "outputs": [],
   "source": [
    "def load_pipeline(model_name):\n",
    "    '''\n",
    "    Function that loads a pipeline as pickle file.\n",
    "    \n",
    "    Args:\n",
    "        model_name: name(version) of the pipeline\n",
    "        pipeline: target pipeline to load\n",
    "        \n",
    "    '''\n",
    "    url = '../models/'+ model_name +'.pickle'\n",
    "    f = bz2.BZ2File(url, 'r')\n",
    "    pipeline_load = pickle.load(f)\n",
    "    f.close()\n",
    "    return pipeline_load"
   ]
  },
  {
   "cell_type": "code",
   "execution_count": 34,
   "metadata": {},
   "outputs": [],
   "source": [
    "pipeline_optimized = load_pipeline('pipeline_optimized_model')"
   ]
  },
  {
   "cell_type": "code",
   "execution_count": 35,
   "metadata": {},
   "outputs": [],
   "source": [
    "pred_optimized = pipeline_optimized.predict(X_test) "
   ]
  },
  {
   "cell_type": "code",
   "execution_count": 36,
   "metadata": {},
   "outputs": [
    {
     "name": "stdout",
     "output_type": "stream",
     "text": [
      "Previous Accuracy: 0.3002773925104022\n",
      "New Accuracy: 0.2901063337956542\n",
      "Previous Precision: 0.6232019029736768\n",
      "New Precision: 0.6177951581334227\n",
      "Previous Recall: 0.34996118514378755\n",
      "New Recalll: 0.3715571084577079\n"
     ]
    },
    {
     "name": "stderr",
     "output_type": "stream",
     "text": [
      "c:\\users\\han\\anaconda3\\envs\\ml_gpu\\lib\\site-packages\\sklearn\\metrics\\classification.py:1437: UndefinedMetricWarning: Precision is ill-defined and being set to 0.0 in labels with no predicted samples.\n",
      "  'precision', 'predicted', average, warn_for)\n"
     ]
    }
   ],
   "source": [
    "compare_scores(y_pred,pred_optimized) "
   ]
  },
  {
   "cell_type": "markdown",
   "metadata": {
    "colab_type": "text",
    "id": "JH7yUXLLb20n"
   },
   "source": [
    "### 8. Try improving your model further. Here are a few ideas:\n",
    "* try other machine learning algorithms\n",
    "* add other features besides the TF-IDF"
   ]
  },
  {
   "cell_type": "code",
   "execution_count": 37,
   "metadata": {},
   "outputs": [],
   "source": [
    "def pipeline_newClassifier(vect,tfidf,clf):\n",
    "        \n",
    "    '''\n",
    "    Function for making new pipeline with different an estimator.\n",
    "    \n",
    "    Args:\n",
    "        vect: (Scikit-learn) CountVectorizer\n",
    "        tfidf: (Scikit-learn) TfidfTransformer\n",
    "        clf: MultiOutputClassifier with any estimator like adaboost or lightgbm \n",
    "    \n",
    "    Returns:\n",
    "        pipeline (Pipeline): pipeline which is consisted with CountVectorizer, TfidfTransformer,\n",
    "                             and MultiOutputClassifier\n",
    "    \n",
    "    '''\n",
    "    \n",
    "    pipeline = Pipeline([\n",
    "                    ('vect', vect),\n",
    "                    ('tfidf', tfidf),\n",
    "                    ('Multi_classifier',MultiOutputClassifier(clf))\n",
    "    ])\n",
    "    return pipeline"
   ]
  },
  {
   "cell_type": "code",
   "execution_count": null,
   "metadata": {},
   "outputs": [],
   "source": [
    "from sklearn.ensemble import AdaBoostClassifier\n",
    "ada_clf = AdaBoostClassifier()\n",
    "vert = pipeline_optimized.steps[0][1]\n",
    "tfidf = pipeline_optimized.steps[1][1]\n",
    "pipeline_ada = pipeline_newClassifier(vert,tfidf,ada_clf)"
   ]
  },
  {
   "cell_type": "code",
   "execution_count": null,
   "metadata": {},
   "outputs": [],
   "source": [
    "pipeline_ada.fit(X_train,y_train)\n",
    "pred_ada = pipeline_ada.predict(X_test)\n",
    "compare_scores(pred_baseline,pred_ada)\n",
    "compare_scores(pred_optimized,pred_ada)"
   ]
  },
  {
   "cell_type": "code",
   "execution_count": 45,
   "metadata": {},
   "outputs": [],
   "source": [
    "vert = pipeline_optimized.steps[0][1]\n",
    "tfidf = pipeline_optimized.steps[1][1]\n",
    "def pipeline_lgb_add_feature(vect,tfidf):\n",
    "    '''\n",
    "    Function for making new pipeline with different an estimator.\n",
    "    \n",
    "    Args:\n",
    "        vect: (Scikit-learn) CountVectorizer\n",
    "        tfidf: (Scikit-learn) TfidfTransformer\n",
    "    \n",
    "    Returns:\n",
    "        pipeline (Pipeline): pipeline which is consisted with CountVectorizer, TfidfTransformer, TfidfVectorizer, TruncatedSVD\n",
    "                             and MultiOutputClassifier with LGBMClassifier.\n",
    "    \n",
    "    '''\n",
    "    pipeline = Pipeline([('features',FeatureUnion(\n",
    "                          [('text_pipeline1', Pipeline([\n",
    "                                              ('vect', vect),\n",
    "                                              ('tfidf', tfidf)])),\n",
    "                           ('text_pipeline2', Pipeline([\n",
    "                                              ('vect2',TfidfVectorizer()),\n",
    "                                              ('T_SVD', TruncatedSVD()) ])) \n",
    "                          ])),\n",
    "                           \n",
    "                        ('Multi_classifier',MultiOutputClassifier(LGBMClassifier(device='gpu', boosting_type='dart',\n",
    "                                                                                 gpu_platform_id = 0, gpu_device_id = 0)))\n",
    "    ])\n",
    "    return pipeline"
   ]
  },
  {
   "cell_type": "code",
   "execution_count": 46,
   "metadata": {},
   "outputs": [],
   "source": [
    "pipeline_model_final = pipeline_lgb_add_feature(vert,tfidf)"
   ]
  },
  {
   "cell_type": "code",
   "execution_count": 47,
   "metadata": {},
   "outputs": [
    {
     "data": {
      "text/plain": [
       "Pipeline(memory=None,\n",
       "         steps=[('features',\n",
       "                 FeatureUnion(n_jobs=None,\n",
       "                              transformer_list=[('text_pipeline1',\n",
       "                                                 Pipeline(memory=None,\n",
       "                                                          steps=[('vect',\n",
       "                                                                  CountVectorizer(analyzer='word',\n",
       "                                                                                  binary=False,\n",
       "                                                                                  decode_error='strict',\n",
       "                                                                                  dtype=<class 'numpy.int64'>,\n",
       "                                                                                  encoding='utf-8',\n",
       "                                                                                  input='content',\n",
       "                                                                                  lowercase=True,\n",
       "                                                                                  max_df=0.75,\n",
       "                                                                                  max_features=None,\n",
       "                                                                                  min_df=1,\n",
       "                                                                                  ngram_range=(1,\n",
       "                                                                                               2),\n",
       "                                                                                  preprocessor=N...\n",
       "                                                                gpu_device_id=0,\n",
       "                                                                gpu_platform_id=0,\n",
       "                                                                importance_type='split',\n",
       "                                                                learning_rate=0.1,\n",
       "                                                                max_depth=-1,\n",
       "                                                                min_child_samples=20,\n",
       "                                                                min_child_weight=0.001,\n",
       "                                                                min_split_gain=0.0,\n",
       "                                                                n_estimators=100,\n",
       "                                                                n_jobs=-1,\n",
       "                                                                num_leaves=31,\n",
       "                                                                objective=None,\n",
       "                                                                random_state=None,\n",
       "                                                                reg_alpha=0.0,\n",
       "                                                                reg_lambda=0.0,\n",
       "                                                                silent=True,\n",
       "                                                                subsample=1.0,\n",
       "                                                                subsample_for_bin=200000,\n",
       "                                                                subsample_freq=0),\n",
       "                                       n_jobs=None))],\n",
       "         verbose=False)"
      ]
     },
     "execution_count": 47,
     "metadata": {},
     "output_type": "execute_result"
    }
   ],
   "source": [
    "pipeline_model_final.fit(X_train,y_train)"
   ]
  },
  {
   "cell_type": "code",
   "execution_count": 48,
   "metadata": {},
   "outputs": [],
   "source": [
    "pred_final = pipeline_model_final.predict(X_test)"
   ]
  },
  {
   "cell_type": "code",
   "execution_count": 49,
   "metadata": {},
   "outputs": [
    {
     "name": "stdout",
     "output_type": "stream",
     "text": [
      "Previous Accuracy: 0.2901063337956542\n",
      "New Accuracy: 0.3059408229311142\n",
      "Previous Precision: 0.6177951581334227\n",
      "New Precision: 0.6233391307869672\n",
      "Previous Recall: 0.3715571084577079\n",
      "New Recalll: 0.37611912873668346\n"
     ]
    },
    {
     "name": "stderr",
     "output_type": "stream",
     "text": [
      "c:\\users\\han\\anaconda3\\envs\\ml_gpu\\lib\\site-packages\\sklearn\\metrics\\classification.py:1437: UndefinedMetricWarning: Precision is ill-defined and being set to 0.0 in labels with no predicted samples.\n",
      "  'precision', 'predicted', average, warn_for)\n"
     ]
    }
   ],
   "source": [
    "compare_scores(pred_optimized,pred_final)"
   ]
  },
  {
   "cell_type": "markdown",
   "metadata": {
    "colab_type": "text",
    "id": "D_R906xPb20p"
   },
   "source": [
    "### 9. Export your model as a pickle file"
   ]
  },
  {
   "cell_type": "code",
   "execution_count": 50,
   "metadata": {
    "colab": {},
    "colab_type": "code",
    "id": "tgqfpSmpb20r"
   },
   "outputs": [],
   "source": [
    "save_pipeline('pipeline_final_model',pipeline_model_final)"
   ]
  },
  {
   "cell_type": "markdown",
   "metadata": {
    "colab_type": "text",
    "id": "_UkB1fS4b20t"
   },
   "source": [
    "### 10. Use this notebook to complete `train.py`\n",
    "Use the template file attached in the Resources folder to write a script that runs the steps above to create a database and export a model based on a new dataset specified by the user."
   ]
  },
  {
   "cell_type": "code",
   "execution_count": null,
   "metadata": {
    "colab": {},
    "colab_type": "code",
    "id": "g_um_DVeb20u"
   },
   "outputs": [],
   "source": []
  }
 ],
 "metadata": {
  "accelerator": "GPU",
  "colab": {
   "collapsed_sections": [],
   "name": "Copy of ML Pipeline Preparation.ipynb",
   "provenance": [],
   "toc_visible": true,
   "version": "0.3.2"
  },
  "kernelspec": {
   "display_name": "Python 3",
   "language": "python",
   "name": "python3"
  },
  "language_info": {
   "codemirror_mode": {
    "name": "ipython",
    "version": 3
   },
   "file_extension": ".py",
   "mimetype": "text/x-python",
   "name": "python",
   "nbconvert_exporter": "python",
   "pygments_lexer": "ipython3",
   "version": "3.7.3"
  }
 },
 "nbformat": 4,
 "nbformat_minor": 1
}
